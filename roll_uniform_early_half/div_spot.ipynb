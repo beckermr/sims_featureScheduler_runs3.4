{
 "cells": [
  {
   "cell_type": "code",
   "execution_count": 9,
   "id": "b43955f7-cef9-4c94-9933-92ebf9fc59bc",
   "metadata": {},
   "outputs": [],
   "source": [
    "import sqlite3\n",
    "import pandas as pd\n",
    "import numpy as np"
   ]
  },
  {
   "cell_type": "code",
   "execution_count": 11,
   "id": "861d0a22-680f-403e-b019-b76fa2a92c45",
   "metadata": {},
   "outputs": [],
   "source": [
    "qu = \"select fieldRA,fieldDec,night from observations;\"\n",
    "con = sqlite3.connect(\"roll_uniform_early_half_mjdp0_v3.4_10yrs.db\")\n",
    "s1 = pd.read_sql(qu, con)\n",
    "con.close()"
   ]
  },
  {
   "cell_type": "code",
   "execution_count": 3,
   "id": "872ef868-b282-4b35-b5b7-459937772c67",
   "metadata": {},
   "outputs": [],
   "source": [
    "con = sqlite3.connect(\"../baseline/baseline_v3.4_10yrs.db\")\n",
    "s2 = pd.read_sql(qu, con)\n",
    "con.close()"
   ]
  },
  {
   "cell_type": "code",
   "execution_count": 4,
   "id": "ec5e0e08-caba-4259-bfee-4ce744f5b544",
   "metadata": {},
   "outputs": [
    {
     "data": {
      "text/html": [
       "<div>\n",
       "<style scoped>\n",
       "    .dataframe tbody tr th:only-of-type {\n",
       "        vertical-align: middle;\n",
       "    }\n",
       "\n",
       "    .dataframe tbody tr th {\n",
       "        vertical-align: top;\n",
       "    }\n",
       "\n",
       "    .dataframe thead th {\n",
       "        text-align: right;\n",
       "    }\n",
       "</style>\n",
       "<table border=\"1\" class=\"dataframe\">\n",
       "  <thead>\n",
       "    <tr style=\"text-align: right;\">\n",
       "      <th></th>\n",
       "      <th>fieldRA</th>\n",
       "      <th>fieldDec</th>\n",
       "    </tr>\n",
       "  </thead>\n",
       "  <tbody>\n",
       "    <tr>\n",
       "      <th>0</th>\n",
       "      <td>200.782211</td>\n",
       "      <td>-50.116498</td>\n",
       "    </tr>\n",
       "    <tr>\n",
       "      <th>1</th>\n",
       "      <td>205.280457</td>\n",
       "      <td>-48.985871</td>\n",
       "    </tr>\n",
       "    <tr>\n",
       "      <th>2</th>\n",
       "      <td>208.768832</td>\n",
       "      <td>-50.721324</td>\n",
       "    </tr>\n",
       "    <tr>\n",
       "      <th>3</th>\n",
       "      <td>212.491654</td>\n",
       "      <td>-52.367602</td>\n",
       "    </tr>\n",
       "    <tr>\n",
       "      <th>4</th>\n",
       "      <td>209.531249</td>\n",
       "      <td>-47.656241</td>\n",
       "    </tr>\n",
       "    <tr>\n",
       "      <th>...</th>\n",
       "      <td>...</td>\n",
       "      <td>...</td>\n",
       "    </tr>\n",
       "    <tr>\n",
       "      <th>2145772</th>\n",
       "      <td>7.709226</td>\n",
       "      <td>-14.610126</td>\n",
       "    </tr>\n",
       "    <tr>\n",
       "      <th>2145773</th>\n",
       "      <td>356.958872</td>\n",
       "      <td>2.770424</td>\n",
       "    </tr>\n",
       "    <tr>\n",
       "      <th>2145774</th>\n",
       "      <td>349.553501</td>\n",
       "      <td>-37.132841</td>\n",
       "    </tr>\n",
       "    <tr>\n",
       "      <th>2145775</th>\n",
       "      <td>349.597253</td>\n",
       "      <td>-40.179489</td>\n",
       "    </tr>\n",
       "    <tr>\n",
       "      <th>2145776</th>\n",
       "      <td>349.485047</td>\n",
       "      <td>-43.316756</td>\n",
       "    </tr>\n",
       "  </tbody>\n",
       "</table>\n",
       "<p>2145777 rows × 2 columns</p>\n",
       "</div>"
      ],
      "text/plain": [
       "            fieldRA   fieldDec\n",
       "0        200.782211 -50.116498\n",
       "1        205.280457 -48.985871\n",
       "2        208.768832 -50.721324\n",
       "3        212.491654 -52.367602\n",
       "4        209.531249 -47.656241\n",
       "...             ...        ...\n",
       "2145772    7.709226 -14.610126\n",
       "2145773  356.958872   2.770424\n",
       "2145774  349.553501 -37.132841\n",
       "2145775  349.597253 -40.179489\n",
       "2145776  349.485047 -43.316756\n",
       "\n",
       "[2145777 rows x 2 columns]"
      ]
     },
     "execution_count": 4,
     "metadata": {},
     "output_type": "execute_result"
    }
   ],
   "source": [
    "s1"
   ]
  },
  {
   "cell_type": "code",
   "execution_count": 5,
   "id": "c9162e6f-7334-45d0-af52-cc1f98ba588d",
   "metadata": {},
   "outputs": [
    {
     "data": {
      "text/html": [
       "<div>\n",
       "<style scoped>\n",
       "    .dataframe tbody tr th:only-of-type {\n",
       "        vertical-align: middle;\n",
       "    }\n",
       "\n",
       "    .dataframe tbody tr th {\n",
       "        vertical-align: top;\n",
       "    }\n",
       "\n",
       "    .dataframe thead th {\n",
       "        text-align: right;\n",
       "    }\n",
       "</style>\n",
       "<table border=\"1\" class=\"dataframe\">\n",
       "  <thead>\n",
       "    <tr style=\"text-align: right;\">\n",
       "      <th></th>\n",
       "      <th>fieldRA</th>\n",
       "      <th>fieldDec</th>\n",
       "    </tr>\n",
       "  </thead>\n",
       "  <tbody>\n",
       "    <tr>\n",
       "      <th>0</th>\n",
       "      <td>200.782211</td>\n",
       "      <td>-50.116498</td>\n",
       "    </tr>\n",
       "    <tr>\n",
       "      <th>1</th>\n",
       "      <td>205.280457</td>\n",
       "      <td>-48.985871</td>\n",
       "    </tr>\n",
       "    <tr>\n",
       "      <th>2</th>\n",
       "      <td>208.768832</td>\n",
       "      <td>-50.721324</td>\n",
       "    </tr>\n",
       "    <tr>\n",
       "      <th>3</th>\n",
       "      <td>212.491654</td>\n",
       "      <td>-52.367602</td>\n",
       "    </tr>\n",
       "    <tr>\n",
       "      <th>4</th>\n",
       "      <td>209.531249</td>\n",
       "      <td>-47.656241</td>\n",
       "    </tr>\n",
       "    <tr>\n",
       "      <th>...</th>\n",
       "      <td>...</td>\n",
       "      <td>...</td>\n",
       "    </tr>\n",
       "    <tr>\n",
       "      <th>2146792</th>\n",
       "      <td>359.855461</td>\n",
       "      <td>-45.784814</td>\n",
       "    </tr>\n",
       "    <tr>\n",
       "      <th>2146793</th>\n",
       "      <td>358.689779</td>\n",
       "      <td>-33.279564</td>\n",
       "    </tr>\n",
       "    <tr>\n",
       "      <th>2146794</th>\n",
       "      <td>349.429663</td>\n",
       "      <td>-34.163912</td>\n",
       "    </tr>\n",
       "    <tr>\n",
       "      <th>2146795</th>\n",
       "      <td>342.924822</td>\n",
       "      <td>-36.466354</td>\n",
       "    </tr>\n",
       "    <tr>\n",
       "      <th>2146796</th>\n",
       "      <td>346.155210</td>\n",
       "      <td>-32.468119</td>\n",
       "    </tr>\n",
       "  </tbody>\n",
       "</table>\n",
       "<p>2146797 rows × 2 columns</p>\n",
       "</div>"
      ],
      "text/plain": [
       "            fieldRA   fieldDec\n",
       "0        200.782211 -50.116498\n",
       "1        205.280457 -48.985871\n",
       "2        208.768832 -50.721324\n",
       "3        212.491654 -52.367602\n",
       "4        209.531249 -47.656241\n",
       "...             ...        ...\n",
       "2146792  359.855461 -45.784814\n",
       "2146793  358.689779 -33.279564\n",
       "2146794  349.429663 -34.163912\n",
       "2146795  342.924822 -36.466354\n",
       "2146796  346.155210 -32.468119\n",
       "\n",
       "[2146797 rows x 2 columns]"
      ]
     },
     "execution_count": 5,
     "metadata": {},
     "output_type": "execute_result"
    }
   ],
   "source": [
    "s2"
   ]
  },
  {
   "cell_type": "code",
   "execution_count": 12,
   "id": "71315098-dc6f-4e76-bd09-877080587df5",
   "metadata": {},
   "outputs": [],
   "source": [
    "indx=np.where(np.abs(s1[\"fieldDec\"] - s2[\"fieldDec\"]) > 0)[0].min()"
   ]
  },
  {
   "cell_type": "code",
   "execution_count": 13,
   "id": "2fe06629-34ec-4484-b476-21fea551af6f",
   "metadata": {},
   "outputs": [
    {
     "data": {
      "text/plain": [
       "374"
      ]
     },
     "execution_count": 13,
     "metadata": {},
     "output_type": "execute_result"
    }
   ],
   "source": [
    "s1['night'].values[indx]"
   ]
  },
  {
   "cell_type": "code",
   "execution_count": null,
   "id": "1e730d24-638d-40b9-b392-371d56baef65",
   "metadata": {},
   "outputs": [],
   "source": []
  }
 ],
 "metadata": {
  "kernelspec": {
   "display_name": "Python 3 (ipykernel)",
   "language": "python",
   "name": "python3"
  },
  "language_info": {
   "codemirror_mode": {
    "name": "ipython",
    "version": 3
   },
   "file_extension": ".py",
   "mimetype": "text/x-python",
   "name": "python",
   "nbconvert_exporter": "python",
   "pygments_lexer": "ipython3",
   "version": "3.11.8"
  }
 },
 "nbformat": 4,
 "nbformat_minor": 5
}
